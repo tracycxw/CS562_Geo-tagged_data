{
 "cells": [
  {
   "cell_type": "code",
   "execution_count": 1,
   "metadata": {},
   "outputs": [],
   "source": [
    "import json\n",
    "import numpy as np\n",
    "import pandas as pd\n",
    "from pandas import DataFrame as DF\n",
    "from sklearn.feature_extraction.text import CountVectorizer as countvec\n",
    "from sklearn.cluster import KMeans as km\n",
    "from sklearn.cluster import AgglomerativeClustering as hi\n",
    "import scipy.cluster.hierarchy as hierarchy\n",
    "from sklearn import mixture\n",
    "from sklearn.metrics import silhouette_score as ss\n",
    "from sklearn.metrics.pairwise import pairwise_distances as pairdist\n",
    "from sklearn import preprocessing\n",
    "import matplotlib.cm as cm\n",
    "from matplotlib import pyplot as plt\n",
    "import warnings\n",
    "warnings.filterwarnings('ignore')\n",
    "%matplotlib inline"
   ]
  },
  {
   "cell_type": "code",
   "execution_count": 2,
   "metadata": {},
   "outputs": [
    {
     "data": {
      "text/html": [
       "<div>\n",
       "<style>\n",
       "    .dataframe thead tr:only-child th {\n",
       "        text-align: right;\n",
       "    }\n",
       "\n",
       "    .dataframe thead th {\n",
       "        text-align: left;\n",
       "    }\n",
       "\n",
       "    .dataframe tbody tr th {\n",
       "        vertical-align: top;\n",
       "    }\n",
       "</style>\n",
       "<table border=\"1\" class=\"dataframe\">\n",
       "  <thead>\n",
       "    <tr style=\"text-align: right;\">\n",
       "      <th></th>\n",
       "      <th>business_id</th>\n",
       "      <th>categories</th>\n",
       "      <th>latitude</th>\n",
       "      <th>longitude</th>\n",
       "      <th>neighborhood</th>\n",
       "      <th>review_count</th>\n",
       "      <th>stars</th>\n",
       "    </tr>\n",
       "  </thead>\n",
       "  <tbody>\n",
       "    <tr>\n",
       "      <th>0</th>\n",
       "      <td>Pd52CjgyEU3Rb8co6QfTPw</td>\n",
       "      <td>[Nightlife, Bars, Barbeque, Sports Bars, Ameri...</td>\n",
       "      <td>36.066914</td>\n",
       "      <td>-115.170848</td>\n",
       "      <td>Southeast</td>\n",
       "      <td>13</td>\n",
       "      <td>4.0</td>\n",
       "    </tr>\n",
       "    <tr>\n",
       "      <th>1</th>\n",
       "      <td>4srfPk1s8nlm1YusyDUbjg</td>\n",
       "      <td>[Fast Food, Restaurants, Sandwiches]</td>\n",
       "      <td>36.064652</td>\n",
       "      <td>-115.118954</td>\n",
       "      <td>Southeast</td>\n",
       "      <td>6</td>\n",
       "      <td>2.5</td>\n",
       "    </tr>\n",
       "    <tr>\n",
       "      <th>2</th>\n",
       "      <td>n7V4cD-KqqE3OXk0irJTyA</td>\n",
       "      <td>[Arcades, Arts &amp; Entertainment, Gastropubs, Re...</td>\n",
       "      <td>36.068259</td>\n",
       "      <td>-115.178877</td>\n",
       "      <td>Southeast</td>\n",
       "      <td>349</td>\n",
       "      <td>3.0</td>\n",
       "    </tr>\n",
       "    <tr>\n",
       "      <th>3</th>\n",
       "      <td>F0fEKpTk7gAmuSFI0KW1eQ</td>\n",
       "      <td>[Italian, Restaurants]</td>\n",
       "      <td>36.111057</td>\n",
       "      <td>-115.241688</td>\n",
       "      <td>Spring Valley</td>\n",
       "      <td>3</td>\n",
       "      <td>1.5</td>\n",
       "    </tr>\n",
       "    <tr>\n",
       "      <th>4</th>\n",
       "      <td>Wpt0sFHcPtV5MO9He7yMKQ</td>\n",
       "      <td>[Restaurants, Fast Food, Burgers]</td>\n",
       "      <td>36.130013</td>\n",
       "      <td>-115.109310</td>\n",
       "      <td>Eastside</td>\n",
       "      <td>20</td>\n",
       "      <td>2.0</td>\n",
       "    </tr>\n",
       "  </tbody>\n",
       "</table>\n",
       "</div>"
      ],
      "text/plain": [
       "              business_id                                         categories  \\\n",
       "0  Pd52CjgyEU3Rb8co6QfTPw  [Nightlife, Bars, Barbeque, Sports Bars, Ameri...   \n",
       "1  4srfPk1s8nlm1YusyDUbjg               [Fast Food, Restaurants, Sandwiches]   \n",
       "2  n7V4cD-KqqE3OXk0irJTyA  [Arcades, Arts & Entertainment, Gastropubs, Re...   \n",
       "3  F0fEKpTk7gAmuSFI0KW1eQ                             [Italian, Restaurants]   \n",
       "4  Wpt0sFHcPtV5MO9He7yMKQ                  [Restaurants, Fast Food, Burgers]   \n",
       "\n",
       "    latitude   longitude   neighborhood  review_count  stars  \n",
       "0  36.066914 -115.170848      Southeast            13    4.0  \n",
       "1  36.064652 -115.118954      Southeast             6    2.5  \n",
       "2  36.068259 -115.178877      Southeast           349    3.0  \n",
       "3  36.111057 -115.241688  Spring Valley             3    1.5  \n",
       "4  36.130013 -115.109310       Eastside            20    2.0  "
      ]
     },
     "execution_count": 2,
     "metadata": {},
     "output_type": "execute_result"
    }
   ],
   "source": [
    "# get longitude and latitude of each business_id, also with its categories\n",
    "business = []\n",
    "for row in open('business.json'):\n",
    "    row = json.loads(row)\n",
    "    if 'Restaurants' in row['categories'] and row['city'] == 'Las Vegas':\n",
    "        business.append({'business_id':row['business_id'], 'longitude':row['longitude'],'latitude':row['latitude'],\n",
    "                        'categories':row['categories'],'stars':row['stars'],'review_count':row['review_count'],\n",
    "                        'neighborhood':row['neighborhood']})\n",
    "business = DF(business)\n",
    "business.head(5)"
   ]
  },
  {
   "cell_type": "code",
   "execution_count": 3,
   "metadata": {},
   "outputs": [
    {
     "name": "stdout",
     "output_type": "stream",
     "text": [
      "<class 'pandas.core.frame.DataFrame'>\n",
      "RangeIndex: 5899 entries, 0 to 5898\n",
      "Data columns (total 7 columns):\n",
      "business_id     5899 non-null object\n",
      "categories      5899 non-null object\n",
      "latitude        5899 non-null float64\n",
      "longitude       5899 non-null float64\n",
      "neighborhood    5899 non-null object\n",
      "review_count    5899 non-null int64\n",
      "stars           5899 non-null float64\n",
      "dtypes: float64(3), int64(1), object(3)\n",
      "memory usage: 322.7+ KB\n"
     ]
    }
   ],
   "source": [
    "business.info()"
   ]
  },
  {
   "cell_type": "code",
   "execution_count": 4,
   "metadata": {},
   "outputs": [
    {
     "data": {
      "text/html": [
       "<div>\n",
       "<style>\n",
       "    .dataframe thead tr:only-child th {\n",
       "        text-align: right;\n",
       "    }\n",
       "\n",
       "    .dataframe thead th {\n",
       "        text-align: left;\n",
       "    }\n",
       "\n",
       "    .dataframe tbody tr th {\n",
       "        vertical-align: top;\n",
       "    }\n",
       "</style>\n",
       "<table border=\"1\" class=\"dataframe\">\n",
       "  <thead>\n",
       "    <tr style=\"text-align: right;\">\n",
       "      <th></th>\n",
       "      <th>business_id</th>\n",
       "      <th>categories</th>\n",
       "      <th>latitude</th>\n",
       "      <th>longitude</th>\n",
       "      <th>neighborhood</th>\n",
       "      <th>review_count</th>\n",
       "    </tr>\n",
       "  </thead>\n",
       "  <tbody>\n",
       "    <tr>\n",
       "      <th>0</th>\n",
       "      <td>Pd52CjgyEU3Rb8co6QfTPw</td>\n",
       "      <td>[Nightlife, Bars, Barbeque, Sports Bars, Ameri...</td>\n",
       "      <td>36.066914</td>\n",
       "      <td>-115.170848</td>\n",
       "      <td>Southeast</td>\n",
       "      <td>13</td>\n",
       "    </tr>\n",
       "    <tr>\n",
       "      <th>1</th>\n",
       "      <td>4srfPk1s8nlm1YusyDUbjg</td>\n",
       "      <td>[Fast Food, Restaurants, Sandwiches]</td>\n",
       "      <td>36.064652</td>\n",
       "      <td>-115.118954</td>\n",
       "      <td>Southeast</td>\n",
       "      <td>6</td>\n",
       "    </tr>\n",
       "    <tr>\n",
       "      <th>2</th>\n",
       "      <td>n7V4cD-KqqE3OXk0irJTyA</td>\n",
       "      <td>[Arcades, Arts &amp; Entertainment, Gastropubs, Re...</td>\n",
       "      <td>36.068259</td>\n",
       "      <td>-115.178877</td>\n",
       "      <td>Southeast</td>\n",
       "      <td>349</td>\n",
       "    </tr>\n",
       "    <tr>\n",
       "      <th>3</th>\n",
       "      <td>F0fEKpTk7gAmuSFI0KW1eQ</td>\n",
       "      <td>[Italian, Restaurants]</td>\n",
       "      <td>36.111057</td>\n",
       "      <td>-115.241688</td>\n",
       "      <td>Spring Valley</td>\n",
       "      <td>3</td>\n",
       "    </tr>\n",
       "    <tr>\n",
       "      <th>4</th>\n",
       "      <td>Wpt0sFHcPtV5MO9He7yMKQ</td>\n",
       "      <td>[Restaurants, Fast Food, Burgers]</td>\n",
       "      <td>36.130013</td>\n",
       "      <td>-115.109310</td>\n",
       "      <td>Eastside</td>\n",
       "      <td>20</td>\n",
       "    </tr>\n",
       "  </tbody>\n",
       "</table>\n",
       "</div>"
      ],
      "text/plain": [
       "              business_id                                         categories  \\\n",
       "0  Pd52CjgyEU3Rb8co6QfTPw  [Nightlife, Bars, Barbeque, Sports Bars, Ameri...   \n",
       "1  4srfPk1s8nlm1YusyDUbjg               [Fast Food, Restaurants, Sandwiches]   \n",
       "2  n7V4cD-KqqE3OXk0irJTyA  [Arcades, Arts & Entertainment, Gastropubs, Re...   \n",
       "3  F0fEKpTk7gAmuSFI0KW1eQ                             [Italian, Restaurants]   \n",
       "4  Wpt0sFHcPtV5MO9He7yMKQ                  [Restaurants, Fast Food, Burgers]   \n",
       "\n",
       "    latitude   longitude   neighborhood  review_count  \n",
       "0  36.066914 -115.170848      Southeast            13  \n",
       "1  36.064652 -115.118954      Southeast             6  \n",
       "2  36.068259 -115.178877      Southeast           349  \n",
       "3  36.111057 -115.241688  Spring Valley             3  \n",
       "4  36.130013 -115.109310       Eastside            20  "
      ]
     },
     "execution_count": 4,
     "metadata": {},
     "output_type": "execute_result"
    }
   ],
   "source": [
    "biz = business.drop('stars',axis=1)\n",
    "biz.head()"
   ]
  },
  {
   "cell_type": "code",
   "execution_count": 5,
   "metadata": {},
   "outputs": [],
   "source": [
    "lati=business['latitude'].values\n",
    "longi=business['longitude'].values"
   ]
  },
  {
   "cell_type": "code",
   "execution_count": 6,
   "metadata": {},
   "outputs": [],
   "source": [
    "# load review json file\n",
    "review = []\n",
    "for r in open('review.json'):\n",
    "    line = json.loads(r)\n",
    "    review.append({'business_id':line['business_id'], 'text':line['text'], 'date':line['date'], \n",
    "                   'stars':line['stars'], 'review_id':line['review_id']})\n",
    "review = DF(review)"
   ]
  },
  {
   "cell_type": "code",
   "execution_count": 7,
   "metadata": {},
   "outputs": [
    {
     "data": {
      "text/html": [
       "<div>\n",
       "<style>\n",
       "    .dataframe thead tr:only-child th {\n",
       "        text-align: right;\n",
       "    }\n",
       "\n",
       "    .dataframe thead th {\n",
       "        text-align: left;\n",
       "    }\n",
       "\n",
       "    .dataframe tbody tr th {\n",
       "        vertical-align: top;\n",
       "    }\n",
       "</style>\n",
       "<table border=\"1\" class=\"dataframe\">\n",
       "  <thead>\n",
       "    <tr style=\"text-align: right;\">\n",
       "      <th></th>\n",
       "      <th>business_id</th>\n",
       "      <th>date</th>\n",
       "      <th>review_id</th>\n",
       "      <th>stars</th>\n",
       "      <th>text</th>\n",
       "    </tr>\n",
       "  </thead>\n",
       "  <tbody>\n",
       "    <tr>\n",
       "      <th>0</th>\n",
       "      <td>0W4lkclzZThpx3V65bVgig</td>\n",
       "      <td>2016-05-28</td>\n",
       "      <td>v0i_UHJMo_hPBq9bxWvW4w</td>\n",
       "      <td>5</td>\n",
       "      <td>Love the staff, love the meat, love the place....</td>\n",
       "    </tr>\n",
       "    <tr>\n",
       "      <th>1</th>\n",
       "      <td>AEx2SYEUJmTxVVB18LlCwA</td>\n",
       "      <td>2016-05-28</td>\n",
       "      <td>vkVSCC7xljjrAI4UGfnKEQ</td>\n",
       "      <td>5</td>\n",
       "      <td>Super simple place but amazing nonetheless. It...</td>\n",
       "    </tr>\n",
       "    <tr>\n",
       "      <th>2</th>\n",
       "      <td>VR6GpWIda3SfvPC-lg9H3w</td>\n",
       "      <td>2016-05-28</td>\n",
       "      <td>n6QzIUObkYshz4dz2QRJTw</td>\n",
       "      <td>5</td>\n",
       "      <td>Small unassuming place that changes their menu...</td>\n",
       "    </tr>\n",
       "    <tr>\n",
       "      <th>3</th>\n",
       "      <td>CKC0-MOWMqoeWf6s-szl8g</td>\n",
       "      <td>2016-05-28</td>\n",
       "      <td>MV3CcKScW05u5LVfF6ok0g</td>\n",
       "      <td>5</td>\n",
       "      <td>Lester's is located in a beautiful neighborhoo...</td>\n",
       "    </tr>\n",
       "    <tr>\n",
       "      <th>4</th>\n",
       "      <td>ACFtxLv8pGrrxMm6EgjreA</td>\n",
       "      <td>2016-05-28</td>\n",
       "      <td>IXvOzsEMYtiJI0CARmj77Q</td>\n",
       "      <td>4</td>\n",
       "      <td>Love coming here. Yes the place always needs t...</td>\n",
       "    </tr>\n",
       "  </tbody>\n",
       "</table>\n",
       "</div>"
      ],
      "text/plain": [
       "              business_id        date               review_id  stars  \\\n",
       "0  0W4lkclzZThpx3V65bVgig  2016-05-28  v0i_UHJMo_hPBq9bxWvW4w      5   \n",
       "1  AEx2SYEUJmTxVVB18LlCwA  2016-05-28  vkVSCC7xljjrAI4UGfnKEQ      5   \n",
       "2  VR6GpWIda3SfvPC-lg9H3w  2016-05-28  n6QzIUObkYshz4dz2QRJTw      5   \n",
       "3  CKC0-MOWMqoeWf6s-szl8g  2016-05-28  MV3CcKScW05u5LVfF6ok0g      5   \n",
       "4  ACFtxLv8pGrrxMm6EgjreA  2016-05-28  IXvOzsEMYtiJI0CARmj77Q      4   \n",
       "\n",
       "                                                text  \n",
       "0  Love the staff, love the meat, love the place....  \n",
       "1  Super simple place but amazing nonetheless. It...  \n",
       "2  Small unassuming place that changes their menu...  \n",
       "3  Lester's is located in a beautiful neighborhoo...  \n",
       "4  Love coming here. Yes the place always needs t...  "
      ]
     },
     "execution_count": 7,
     "metadata": {},
     "output_type": "execute_result"
    }
   ],
   "source": [
    "review.head()"
   ]
  },
  {
   "cell_type": "code",
   "execution_count": 8,
   "metadata": {},
   "outputs": [
    {
     "data": {
      "text/html": [
       "<div>\n",
       "<style>\n",
       "    .dataframe thead tr:only-child th {\n",
       "        text-align: right;\n",
       "    }\n",
       "\n",
       "    .dataframe thead th {\n",
       "        text-align: left;\n",
       "    }\n",
       "\n",
       "    .dataframe tbody tr th {\n",
       "        vertical-align: top;\n",
       "    }\n",
       "</style>\n",
       "<table border=\"1\" class=\"dataframe\">\n",
       "  <thead>\n",
       "    <tr style=\"text-align: right;\">\n",
       "      <th></th>\n",
       "      <th>business_id</th>\n",
       "      <th>date</th>\n",
       "      <th>review_id</th>\n",
       "      <th>stars</th>\n",
       "      <th>text</th>\n",
       "      <th>categories</th>\n",
       "      <th>latitude</th>\n",
       "      <th>longitude</th>\n",
       "      <th>neighborhood</th>\n",
       "      <th>review_count</th>\n",
       "    </tr>\n",
       "  </thead>\n",
       "  <tbody>\n",
       "    <tr>\n",
       "      <th>0</th>\n",
       "      <td>9Jc3W0aR9Xf2gcHI0rEXsw</td>\n",
       "      <td>2012-08-23</td>\n",
       "      <td>QgSf2JvYz-M4PU2yuJjxNQ</td>\n",
       "      <td>1</td>\n",
       "      <td>After being scared away from Rock &amp; Rita's, we...</td>\n",
       "      <td>[American (Traditional), Pub Food, Fast Food, ...</td>\n",
       "      <td>36.136978</td>\n",
       "      <td>-115.163337</td>\n",
       "      <td>The Strip</td>\n",
       "      <td>57</td>\n",
       "    </tr>\n",
       "    <tr>\n",
       "      <th>1</th>\n",
       "      <td>9Jc3W0aR9Xf2gcHI0rEXsw</td>\n",
       "      <td>2013-07-09</td>\n",
       "      <td>Pj41wBNrL1TPM0aKwqGNgQ</td>\n",
       "      <td>2</td>\n",
       "      <td>Came here for dinner b/c we arrived at the hot...</td>\n",
       "      <td>[American (Traditional), Pub Food, Fast Food, ...</td>\n",
       "      <td>36.136978</td>\n",
       "      <td>-115.163337</td>\n",
       "      <td>The Strip</td>\n",
       "      <td>57</td>\n",
       "    </tr>\n",
       "    <tr>\n",
       "      <th>2</th>\n",
       "      <td>9Jc3W0aR9Xf2gcHI0rEXsw</td>\n",
       "      <td>2013-07-08</td>\n",
       "      <td>D7YruuihDlR2ASh1vvankw</td>\n",
       "      <td>2</td>\n",
       "      <td>There is no more prime rib. According to the w...</td>\n",
       "      <td>[American (Traditional), Pub Food, Fast Food, ...</td>\n",
       "      <td>36.136978</td>\n",
       "      <td>-115.163337</td>\n",
       "      <td>The Strip</td>\n",
       "      <td>57</td>\n",
       "    </tr>\n",
       "    <tr>\n",
       "      <th>3</th>\n",
       "      <td>9Jc3W0aR9Xf2gcHI0rEXsw</td>\n",
       "      <td>2008-11-24</td>\n",
       "      <td>s8j02t2pcqtGzZTwRwYsHA</td>\n",
       "      <td>5</td>\n",
       "      <td>The Garden Grill is located inside the Circus ...</td>\n",
       "      <td>[American (Traditional), Pub Food, Fast Food, ...</td>\n",
       "      <td>36.136978</td>\n",
       "      <td>-115.163337</td>\n",
       "      <td>The Strip</td>\n",
       "      <td>57</td>\n",
       "    </tr>\n",
       "    <tr>\n",
       "      <th>4</th>\n",
       "      <td>9Jc3W0aR9Xf2gcHI0rEXsw</td>\n",
       "      <td>2013-02-09</td>\n",
       "      <td>qC6VnDrkxOLEP4hyvtiwqg</td>\n",
       "      <td>4</td>\n",
       "      <td>All you can eat Prime Rib was DELICIOUS!!!!!! ...</td>\n",
       "      <td>[American (Traditional), Pub Food, Fast Food, ...</td>\n",
       "      <td>36.136978</td>\n",
       "      <td>-115.163337</td>\n",
       "      <td>The Strip</td>\n",
       "      <td>57</td>\n",
       "    </tr>\n",
       "  </tbody>\n",
       "</table>\n",
       "</div>"
      ],
      "text/plain": [
       "              business_id        date               review_id  stars  \\\n",
       "0  9Jc3W0aR9Xf2gcHI0rEXsw  2012-08-23  QgSf2JvYz-M4PU2yuJjxNQ      1   \n",
       "1  9Jc3W0aR9Xf2gcHI0rEXsw  2013-07-09  Pj41wBNrL1TPM0aKwqGNgQ      2   \n",
       "2  9Jc3W0aR9Xf2gcHI0rEXsw  2013-07-08  D7YruuihDlR2ASh1vvankw      2   \n",
       "3  9Jc3W0aR9Xf2gcHI0rEXsw  2008-11-24  s8j02t2pcqtGzZTwRwYsHA      5   \n",
       "4  9Jc3W0aR9Xf2gcHI0rEXsw  2013-02-09  qC6VnDrkxOLEP4hyvtiwqg      4   \n",
       "\n",
       "                                                text  \\\n",
       "0  After being scared away from Rock & Rita's, we...   \n",
       "1  Came here for dinner b/c we arrived at the hot...   \n",
       "2  There is no more prime rib. According to the w...   \n",
       "3  The Garden Grill is located inside the Circus ...   \n",
       "4  All you can eat Prime Rib was DELICIOUS!!!!!! ...   \n",
       "\n",
       "                                          categories   latitude   longitude  \\\n",
       "0  [American (Traditional), Pub Food, Fast Food, ...  36.136978 -115.163337   \n",
       "1  [American (Traditional), Pub Food, Fast Food, ...  36.136978 -115.163337   \n",
       "2  [American (Traditional), Pub Food, Fast Food, ...  36.136978 -115.163337   \n",
       "3  [American (Traditional), Pub Food, Fast Food, ...  36.136978 -115.163337   \n",
       "4  [American (Traditional), Pub Food, Fast Food, ...  36.136978 -115.163337   \n",
       "\n",
       "  neighborhood  review_count  \n",
       "0    The Strip            57  \n",
       "1    The Strip            57  \n",
       "2    The Strip            57  \n",
       "3    The Strip            57  \n",
       "4    The Strip            57  "
      ]
     },
     "execution_count": 8,
     "metadata": {},
     "output_type": "execute_result"
    }
   ],
   "source": [
    "# concatenate reviews with the business_id\n",
    "data_tmp = pd.merge(review,biz)\n",
    "data_tmp.head(5)"
   ]
  },
  {
   "cell_type": "code",
   "execution_count": 9,
   "metadata": {},
   "outputs": [],
   "source": [
    "data_tmp['year'], data_tmp['rest'] = data_tmp['date'].str.split('-', 1).str"
   ]
  },
  {
   "cell_type": "code",
   "execution_count": 10,
   "metadata": {},
   "outputs": [],
   "source": [
    "data_tmp['month'], data_tmp['new_date'] = data_tmp['rest'].str.split('-', 1).str"
   ]
  },
  {
   "cell_type": "code",
   "execution_count": 11,
   "metadata": {},
   "outputs": [],
   "source": [
    "data_tmp.drop('rest', axis=1, inplace=True)"
   ]
  },
  {
   "cell_type": "code",
   "execution_count": 56,
   "metadata": {},
   "outputs": [
    {
     "data": {
      "text/plain": [
       "929606"
      ]
     },
     "execution_count": 56,
     "metadata": {},
     "output_type": "execute_result"
    }
   ],
   "source": [
    "data_tmp.head(500)\n",
    "len(data_tmp)"
   ]
  },
  {
   "cell_type": "code",
   "execution_count": 87,
   "metadata": {},
   "outputs": [
    {
     "data": {
      "text/html": [
       "<div>\n",
       "<style>\n",
       "    .dataframe thead tr:only-child th {\n",
       "        text-align: right;\n",
       "    }\n",
       "\n",
       "    .dataframe thead th {\n",
       "        text-align: left;\n",
       "    }\n",
       "\n",
       "    .dataframe tbody tr th {\n",
       "        vertical-align: top;\n",
       "    }\n",
       "</style>\n",
       "<table border=\"1\" class=\"dataframe\">\n",
       "  <thead>\n",
       "    <tr style=\"text-align: right;\">\n",
       "      <th></th>\n",
       "      <th>business_id</th>\n",
       "      <th>date</th>\n",
       "      <th>review_id</th>\n",
       "      <th>stars</th>\n",
       "      <th>text</th>\n",
       "      <th>categories</th>\n",
       "      <th>latitude</th>\n",
       "      <th>longitude</th>\n",
       "      <th>neighborhood</th>\n",
       "      <th>review_count</th>\n",
       "      <th>year</th>\n",
       "      <th>month</th>\n",
       "      <th>new_date</th>\n",
       "    </tr>\n",
       "  </thead>\n",
       "  <tbody>\n",
       "    <tr>\n",
       "      <th>37402</th>\n",
       "      <td>f4x1YBxkLrZg652xt2KR5g</td>\n",
       "      <td>2016-06-22</td>\n",
       "      <td>sqX-4E1wsfW9CE6-RFwKmw</td>\n",
       "      <td>4</td>\n",
       "      <td>I'd been to the Hash House downtown, but not t...</td>\n",
       "      <td>[American (New), Restaurants, Breakfast &amp; Brunch]</td>\n",
       "      <td>36.118181</td>\n",
       "      <td>-115.17158</td>\n",
       "      <td>The Strip</td>\n",
       "      <td>4774</td>\n",
       "      <td>2016</td>\n",
       "      <td>06</td>\n",
       "      <td>22</td>\n",
       "    </tr>\n",
       "    <tr>\n",
       "      <th>37403</th>\n",
       "      <td>f4x1YBxkLrZg652xt2KR5g</td>\n",
       "      <td>2017-07-12</td>\n",
       "      <td>sD0KL4CwBVceyO0Nc8Y6Yw</td>\n",
       "      <td>4</td>\n",
       "      <td>The portions are huge the food is delicious. M...</td>\n",
       "      <td>[American (New), Restaurants, Breakfast &amp; Brunch]</td>\n",
       "      <td>36.118181</td>\n",
       "      <td>-115.17158</td>\n",
       "      <td>The Strip</td>\n",
       "      <td>4774</td>\n",
       "      <td>2017</td>\n",
       "      <td>07</td>\n",
       "      <td>12</td>\n",
       "    </tr>\n",
       "    <tr>\n",
       "      <th>37404</th>\n",
       "      <td>f4x1YBxkLrZg652xt2KR5g</td>\n",
       "      <td>2014-03-13</td>\n",
       "      <td>gwF_GdU-AvWZp1Bbynmhgw</td>\n",
       "      <td>2</td>\n",
       "      <td>Overrated!  Went here for brunch, told 30 minu...</td>\n",
       "      <td>[American (New), Restaurants, Breakfast &amp; Brunch]</td>\n",
       "      <td>36.118181</td>\n",
       "      <td>-115.17158</td>\n",
       "      <td>The Strip</td>\n",
       "      <td>4774</td>\n",
       "      <td>2014</td>\n",
       "      <td>03</td>\n",
       "      <td>13</td>\n",
       "    </tr>\n",
       "    <tr>\n",
       "      <th>37405</th>\n",
       "      <td>f4x1YBxkLrZg652xt2KR5g</td>\n",
       "      <td>2012-10-29</td>\n",
       "      <td>AMo5Nk8GAgm0OhQrnNm01A</td>\n",
       "      <td>4</td>\n",
       "      <td>I have been to all the HHGGs in town, and fina...</td>\n",
       "      <td>[American (New), Restaurants, Breakfast &amp; Brunch]</td>\n",
       "      <td>36.118181</td>\n",
       "      <td>-115.17158</td>\n",
       "      <td>The Strip</td>\n",
       "      <td>4774</td>\n",
       "      <td>2012</td>\n",
       "      <td>10</td>\n",
       "      <td>29</td>\n",
       "    </tr>\n",
       "    <tr>\n",
       "      <th>37406</th>\n",
       "      <td>f4x1YBxkLrZg652xt2KR5g</td>\n",
       "      <td>2011-12-30</td>\n",
       "      <td>DNivSyKQ8OmYwCQWwmUQJw</td>\n",
       "      <td>5</td>\n",
       "      <td>Holy cow. Where do I start?\\nFirst of all, I h...</td>\n",
       "      <td>[American (New), Restaurants, Breakfast &amp; Brunch]</td>\n",
       "      <td>36.118181</td>\n",
       "      <td>-115.17158</td>\n",
       "      <td>The Strip</td>\n",
       "      <td>4774</td>\n",
       "      <td>2011</td>\n",
       "      <td>12</td>\n",
       "      <td>30</td>\n",
       "    </tr>\n",
       "  </tbody>\n",
       "</table>\n",
       "</div>"
      ],
      "text/plain": [
       "                  business_id        date               review_id  stars  \\\n",
       "37402  f4x1YBxkLrZg652xt2KR5g  2016-06-22  sqX-4E1wsfW9CE6-RFwKmw      4   \n",
       "37403  f4x1YBxkLrZg652xt2KR5g  2017-07-12  sD0KL4CwBVceyO0Nc8Y6Yw      4   \n",
       "37404  f4x1YBxkLrZg652xt2KR5g  2014-03-13  gwF_GdU-AvWZp1Bbynmhgw      2   \n",
       "37405  f4x1YBxkLrZg652xt2KR5g  2012-10-29  AMo5Nk8GAgm0OhQrnNm01A      4   \n",
       "37406  f4x1YBxkLrZg652xt2KR5g  2011-12-30  DNivSyKQ8OmYwCQWwmUQJw      5   \n",
       "\n",
       "                                                    text  \\\n",
       "37402  I'd been to the Hash House downtown, but not t...   \n",
       "37403  The portions are huge the food is delicious. M...   \n",
       "37404  Overrated!  Went here for brunch, told 30 minu...   \n",
       "37405  I have been to all the HHGGs in town, and fina...   \n",
       "37406  Holy cow. Where do I start?\\nFirst of all, I h...   \n",
       "\n",
       "                                              categories   latitude  \\\n",
       "37402  [American (New), Restaurants, Breakfast & Brunch]  36.118181   \n",
       "37403  [American (New), Restaurants, Breakfast & Brunch]  36.118181   \n",
       "37404  [American (New), Restaurants, Breakfast & Brunch]  36.118181   \n",
       "37405  [American (New), Restaurants, Breakfast & Brunch]  36.118181   \n",
       "37406  [American (New), Restaurants, Breakfast & Brunch]  36.118181   \n",
       "\n",
       "       longitude neighborhood  review_count  year month new_date  \n",
       "37402 -115.17158    The Strip          4774  2016    06       22  \n",
       "37403 -115.17158    The Strip          4774  2017    07       12  \n",
       "37404 -115.17158    The Strip          4774  2014    03       13  \n",
       "37405 -115.17158    The Strip          4774  2012    10       29  \n",
       "37406 -115.17158    The Strip          4774  2011    12       30  "
      ]
     },
     "execution_count": 87,
     "metadata": {},
     "output_type": "execute_result"
    }
   ],
   "source": [
    "rc = data_tmp['review_count'] > 4000\n",
    "new_data_tmp = data_tmp[rc]\n",
    "new_data_tmp.head()"
   ]
  },
  {
   "cell_type": "code",
   "execution_count": 88,
   "metadata": {},
   "outputs": [
    {
     "data": {
      "text/html": [
       "<div>\n",
       "<style>\n",
       "    .dataframe thead tr:only-child th {\n",
       "        text-align: right;\n",
       "    }\n",
       "\n",
       "    .dataframe thead th {\n",
       "        text-align: left;\n",
       "    }\n",
       "\n",
       "    .dataframe tbody tr th {\n",
       "        vertical-align: top;\n",
       "    }\n",
       "</style>\n",
       "<table border=\"1\" class=\"dataframe\">\n",
       "  <thead>\n",
       "    <tr style=\"text-align: right;\">\n",
       "      <th></th>\n",
       "      <th>business_id</th>\n",
       "      <th>date</th>\n",
       "      <th>stars</th>\n",
       "      <th>categories</th>\n",
       "      <th>review_count</th>\n",
       "      <th>year</th>\n",
       "      <th>month</th>\n",
       "      <th>new_date</th>\n",
       "    </tr>\n",
       "  </thead>\n",
       "  <tbody>\n",
       "    <tr>\n",
       "      <th>37402</th>\n",
       "      <td>f4x1YBxkLrZg652xt2KR5g</td>\n",
       "      <td>2016-06-22</td>\n",
       "      <td>4</td>\n",
       "      <td>[American (New), Restaurants, Breakfast &amp; Brunch]</td>\n",
       "      <td>4774</td>\n",
       "      <td>2016</td>\n",
       "      <td>06</td>\n",
       "      <td>22</td>\n",
       "    </tr>\n",
       "    <tr>\n",
       "      <th>37403</th>\n",
       "      <td>f4x1YBxkLrZg652xt2KR5g</td>\n",
       "      <td>2017-07-12</td>\n",
       "      <td>4</td>\n",
       "      <td>[American (New), Restaurants, Breakfast &amp; Brunch]</td>\n",
       "      <td>4774</td>\n",
       "      <td>2017</td>\n",
       "      <td>07</td>\n",
       "      <td>12</td>\n",
       "    </tr>\n",
       "    <tr>\n",
       "      <th>37404</th>\n",
       "      <td>f4x1YBxkLrZg652xt2KR5g</td>\n",
       "      <td>2014-03-13</td>\n",
       "      <td>2</td>\n",
       "      <td>[American (New), Restaurants, Breakfast &amp; Brunch]</td>\n",
       "      <td>4774</td>\n",
       "      <td>2014</td>\n",
       "      <td>03</td>\n",
       "      <td>13</td>\n",
       "    </tr>\n",
       "    <tr>\n",
       "      <th>37405</th>\n",
       "      <td>f4x1YBxkLrZg652xt2KR5g</td>\n",
       "      <td>2012-10-29</td>\n",
       "      <td>4</td>\n",
       "      <td>[American (New), Restaurants, Breakfast &amp; Brunch]</td>\n",
       "      <td>4774</td>\n",
       "      <td>2012</td>\n",
       "      <td>10</td>\n",
       "      <td>29</td>\n",
       "    </tr>\n",
       "    <tr>\n",
       "      <th>37406</th>\n",
       "      <td>f4x1YBxkLrZg652xt2KR5g</td>\n",
       "      <td>2011-12-30</td>\n",
       "      <td>5</td>\n",
       "      <td>[American (New), Restaurants, Breakfast &amp; Brunch]</td>\n",
       "      <td>4774</td>\n",
       "      <td>2011</td>\n",
       "      <td>12</td>\n",
       "      <td>30</td>\n",
       "    </tr>\n",
       "  </tbody>\n",
       "</table>\n",
       "</div>"
      ],
      "text/plain": [
       "                  business_id        date  stars  \\\n",
       "37402  f4x1YBxkLrZg652xt2KR5g  2016-06-22      4   \n",
       "37403  f4x1YBxkLrZg652xt2KR5g  2017-07-12      4   \n",
       "37404  f4x1YBxkLrZg652xt2KR5g  2014-03-13      2   \n",
       "37405  f4x1YBxkLrZg652xt2KR5g  2012-10-29      4   \n",
       "37406  f4x1YBxkLrZg652xt2KR5g  2011-12-30      5   \n",
       "\n",
       "                                              categories  review_count  year  \\\n",
       "37402  [American (New), Restaurants, Breakfast & Brunch]          4774  2016   \n",
       "37403  [American (New), Restaurants, Breakfast & Brunch]          4774  2017   \n",
       "37404  [American (New), Restaurants, Breakfast & Brunch]          4774  2014   \n",
       "37405  [American (New), Restaurants, Breakfast & Brunch]          4774  2012   \n",
       "37406  [American (New), Restaurants, Breakfast & Brunch]          4774  2011   \n",
       "\n",
       "      month new_date  \n",
       "37402    06       22  \n",
       "37403    07       12  \n",
       "37404    03       13  \n",
       "37405    10       29  \n",
       "37406    12       30  "
      ]
     },
     "execution_count": 88,
     "metadata": {},
     "output_type": "execute_result"
    }
   ],
   "source": [
    "newdata = new_data_tmp.drop('review_id', axis=1)\n",
    "newdata = newdata.drop('text', axis=1)\n",
    "newdata = newdata.drop('latitude', axis=1)\n",
    "newdata = newdata.drop('longitude', axis=1)\n",
    "newdata = newdata.drop('neighborhood', axis=1)\n",
    "newdata.head()"
   ]
  },
  {
   "cell_type": "code",
   "execution_count": 89,
   "metadata": {},
   "outputs": [],
   "source": [
    "newdata = newdata.drop('review_count', axis=1)\n",
    "newdata = newdata.drop('categories', axis=1)\n",
    "# newdata.sort_values(by='year')\n",
    "# newdata.index = newdata['date']\n",
    "newdata.sort_values(by='date',inplace=True)\n",
    "# n = newdata.head(100)"
   ]
  },
  {
   "cell_type": "code",
   "execution_count": 90,
   "metadata": {},
   "outputs": [
    {
     "data": {
      "text/html": [
       "<div>\n",
       "<style>\n",
       "    .dataframe thead tr:only-child th {\n",
       "        text-align: right;\n",
       "    }\n",
       "\n",
       "    .dataframe thead th {\n",
       "        text-align: left;\n",
       "    }\n",
       "\n",
       "    .dataframe tbody tr th {\n",
       "        vertical-align: top;\n",
       "    }\n",
       "</style>\n",
       "<table border=\"1\" class=\"dataframe\">\n",
       "  <thead>\n",
       "    <tr style=\"text-align: right;\">\n",
       "      <th></th>\n",
       "      <th>business_id</th>\n",
       "      <th>date</th>\n",
       "      <th>stars</th>\n",
       "      <th>year</th>\n",
       "      <th>month</th>\n",
       "      <th>new_date</th>\n",
       "    </tr>\n",
       "  </thead>\n",
       "  <tbody>\n",
       "    <tr>\n",
       "      <th>172280</th>\n",
       "      <td>4JNXUYY8wbaaDmk3BPzlWw</td>\n",
       "      <td>2005-10-10</td>\n",
       "      <td>5</td>\n",
       "      <td>2005</td>\n",
       "      <td>10</td>\n",
       "      <td>10</td>\n",
       "    </tr>\n",
       "    <tr>\n",
       "      <th>174607</th>\n",
       "      <td>4JNXUYY8wbaaDmk3BPzlWw</td>\n",
       "      <td>2005-10-15</td>\n",
       "      <td>5</td>\n",
       "      <td>2005</td>\n",
       "      <td>10</td>\n",
       "      <td>15</td>\n",
       "    </tr>\n",
       "    <tr>\n",
       "      <th>170490</th>\n",
       "      <td>4JNXUYY8wbaaDmk3BPzlWw</td>\n",
       "      <td>2005-12-02</td>\n",
       "      <td>4</td>\n",
       "      <td>2005</td>\n",
       "      <td>12</td>\n",
       "      <td>02</td>\n",
       "    </tr>\n",
       "    <tr>\n",
       "      <th>173821</th>\n",
       "      <td>4JNXUYY8wbaaDmk3BPzlWw</td>\n",
       "      <td>2006-01-07</td>\n",
       "      <td>4</td>\n",
       "      <td>2006</td>\n",
       "      <td>01</td>\n",
       "      <td>07</td>\n",
       "    </tr>\n",
       "    <tr>\n",
       "      <th>170666</th>\n",
       "      <td>4JNXUYY8wbaaDmk3BPzlWw</td>\n",
       "      <td>2006-01-31</td>\n",
       "      <td>5</td>\n",
       "      <td>2006</td>\n",
       "      <td>01</td>\n",
       "      <td>31</td>\n",
       "    </tr>\n",
       "  </tbody>\n",
       "</table>\n",
       "</div>"
      ],
      "text/plain": [
       "                   business_id        date  stars  year month new_date\n",
       "172280  4JNXUYY8wbaaDmk3BPzlWw  2005-10-10      5  2005    10       10\n",
       "174607  4JNXUYY8wbaaDmk3BPzlWw  2005-10-15      5  2005    10       15\n",
       "170490  4JNXUYY8wbaaDmk3BPzlWw  2005-12-02      4  2005    12       02\n",
       "173821  4JNXUYY8wbaaDmk3BPzlWw  2006-01-07      4  2006    01       07\n",
       "170666  4JNXUYY8wbaaDmk3BPzlWw  2006-01-31      5  2006    01       31"
      ]
     },
     "execution_count": 90,
     "metadata": {},
     "output_type": "execute_result"
    }
   ],
   "source": [
    "newdata.head(5)"
   ]
  },
  {
   "cell_type": "code",
   "execution_count": 117,
   "metadata": {},
   "outputs": [],
   "source": [
    "# n = newdata.groupby(['business_id','year'], as_index=False)['stars'].mean()\n",
    "# n.head()"
   ]
  },
  {
   "cell_type": "code",
   "execution_count": 118,
   "metadata": {},
   "outputs": [],
   "source": [
    "# cnt = 0\n",
    "# # fig, ax = plt.subplots(figsize=(8,6))\n",
    "# for title, group in n.groupby('business_id'):\n",
    "#     cnt += 1\n",
    "#     group.plot(x='year', y='stars')"
   ]
  },
  {
   "cell_type": "code",
   "execution_count": 119,
   "metadata": {},
   "outputs": [],
   "source": [
    "# print(cnt)"
   ]
  },
  {
   "cell_type": "code",
   "execution_count": 139,
   "metadata": {},
   "outputs": [
    {
     "data": {
      "image/png": "[encoded data removed]",
      "text/plain": [
       "<matplotlib.figure.Figure at 0x269f17160>"
      ]
     },
     "metadata": {},
     "output_type": "display_data"
    }
   ],
   "source": [
    "# plot data\n",
    "fig, ax = plt.subplots(figsize=(15,7))\n",
    "# use unstack()\n",
    "newdata.groupby(['year','business_id']).mean()['stars'].unstack().plot(ax=ax,lw=3.0,ls='-')\n",
    "plt.xlabel('Year')\n",
    "plt.ylabel('Average Stars')\n",
    "plt.title('Evolution of Stars of the Top 7 Restaurants with the Most Reviews')\n",
    "plt.show()"
   ]
  },
  {
   "cell_type": "code",
   "execution_count": 141,
   "metadata": {},
   "outputs": [
    {
     "data": {
      "text/html": [
       "<div>\n",
       "<style>\n",
       "    .dataframe thead tr:only-child th {\n",
       "        text-align: right;\n",
       "    }\n",
       "\n",
       "    .dataframe thead th {\n",
       "        text-align: left;\n",
       "    }\n",
       "\n",
       "    .dataframe tbody tr th {\n",
       "        vertical-align: top;\n",
       "    }\n",
       "</style>\n",
       "<table border=\"1\" class=\"dataframe\">\n",
       "  <thead>\n",
       "    <tr style=\"text-align: right;\">\n",
       "      <th></th>\n",
       "      <th>business_id</th>\n",
       "      <th>year</th>\n",
       "      <th>stars</th>\n",
       "    </tr>\n",
       "  </thead>\n",
       "  <tbody>\n",
       "    <tr>\n",
       "      <th>0</th>\n",
       "      <td>2weQS-RnoOBhb1KsHKyoSQ</td>\n",
       "      <td>2006</td>\n",
       "      <td>4.000000</td>\n",
       "    </tr>\n",
       "    <tr>\n",
       "      <th>1</th>\n",
       "      <td>2weQS-RnoOBhb1KsHKyoSQ</td>\n",
       "      <td>2007</td>\n",
       "      <td>4.012658</td>\n",
       "    </tr>\n",
       "    <tr>\n",
       "      <th>2</th>\n",
       "      <td>2weQS-RnoOBhb1KsHKyoSQ</td>\n",
       "      <td>2008</td>\n",
       "      <td>3.881356</td>\n",
       "    </tr>\n",
       "    <tr>\n",
       "      <th>3</th>\n",
       "      <td>2weQS-RnoOBhb1KsHKyoSQ</td>\n",
       "      <td>2009</td>\n",
       "      <td>3.856397</td>\n",
       "    </tr>\n",
       "    <tr>\n",
       "      <th>4</th>\n",
       "      <td>2weQS-RnoOBhb1KsHKyoSQ</td>\n",
       "      <td>2010</td>\n",
       "      <td>3.888235</td>\n",
       "    </tr>\n",
       "  </tbody>\n",
       "</table>\n",
       "</div>"
      ],
      "text/plain": [
       "              business_id  year     stars\n",
       "0  2weQS-RnoOBhb1KsHKyoSQ  2006  4.000000\n",
       "1  2weQS-RnoOBhb1KsHKyoSQ  2007  4.012658\n",
       "2  2weQS-RnoOBhb1KsHKyoSQ  2008  3.881356\n",
       "3  2weQS-RnoOBhb1KsHKyoSQ  2009  3.856397\n",
       "4  2weQS-RnoOBhb1KsHKyoSQ  2010  3.888235"
      ]
     },
     "execution_count": 141,
     "metadata": {},
     "output_type": "execute_result"
    }
   ],
   "source": [
    "n = newdata.groupby(['business_id','year'], as_index=False)['stars'].mean()\n",
    "n.head()"
   ]
  },
  {
   "cell_type": "code",
   "execution_count": 230,
   "metadata": {},
   "outputs": [],
   "source": [
    "dx1=[]\n",
    "dy1=[]\n",
    "dx2=[]\n",
    "dy2=[]\n",
    "for x, y in n.groupby('business_id'):\n",
    "    if x == 'K7lWdNUhCbcnEvI0NhGewg':\n",
    "        dx1.append(y['year'])\n",
    "        dy1.append(y['stars'])\n",
    "    elif x == 'f4x1YBxkLrZg652xt2KR5g':\n",
    "        dx2.append(y['year'])\n",
    "        dy2.append(y['stars'])\n",
    "dx1 = dx1[0]\n",
    "dy1 = dy1[0]\n",
    "dx2 = dx2[0]\n",
    "dy2 = dy2[0]"
   ]
  },
  {
   "cell_type": "code",
   "execution_count": 282,
   "metadata": {},
   "outputs": [
    {
     "data": {
      "image/png": "[encoded data removed]",
      "text/plain": [
       "<matplotlib.figure.Figure at 0x206a50400>"
      ]
     },
     "metadata": {},
     "output_type": "display_data"
    }
   ],
   "source": [
    "# plt.plot(dx1,dy1,'ro', label='$y = numbers', dx2,dy2,'g^')\n",
    "# ax.legend()\n",
    "# plt.show()\n",
    "fig = plt.figure()\n",
    "ax = plt.subplot(111)\n",
    "ax.plot(dx1, dy1, '-o', label='K7lWdNUhCbcnEvI0NhGewg')\n",
    "ax.plot(dx2, dy2, '-^', label='f4x1YBxkLrZg652xt2KR5g')\n",
    "plt.xlabel('Year')\n",
    "plt.ylabel('Average Stars')\n",
    "plt.title('Two Businesses')\n",
    "ax.legend()\n",
    "plt.show()"
   ]
  },
  {
   "cell_type": "code",
   "execution_count": 271,
   "metadata": {},
   "outputs": [
    {
     "data": {
      "text/plain": [
       "array([[ 0.,  0.,  0.,  0.,  0.,  0.,  0.,  0.],\n",
       "       [ 0.,  0.,  0.,  0.,  0.,  0.,  0.,  0.],\n",
       "       [ 0.,  0.,  0.,  0.,  0.,  0.,  0.,  0.],\n",
       "       [ 0.,  0.,  0.,  0.,  0.,  0.,  0.,  0.],\n",
       "       [ 0.,  0.,  0.,  0.,  0.,  0.,  0.,  0.],\n",
       "       [ 0.,  0.,  0.,  0.,  0.,  0.,  0.,  0.],\n",
       "       [ 0.,  0.,  0.,  0.,  0.,  0.,  0.,  0.],\n",
       "       [ 0.,  0.,  0.,  0.,  0.,  0.,  0.,  0.]])"
      ]
     },
     "execution_count": 271,
     "metadata": {},
     "output_type": "execute_result"
    }
   ],
   "source": [
    "y2 = dy2.values\n",
    "y1 = dy1.values\n",
    "distances = np.zeros((len(y2), len(y1)))\n",
    "distances"
   ]
  },
  {
   "cell_type": "code",
   "execution_count": 272,
   "metadata": {},
   "outputs": [],
   "source": [
    "for i in range(len(y2)):\n",
    "    for j in range(len(y1)):\n",
    "#         distances[i,j] = (y1[j]-y2[i])**2  \n",
    "        distances[i,j] = abs(y1[j]-y2[i])"
   ]
  },
  {
   "cell_type": "code",
   "execution_count": 273,
   "metadata": {},
   "outputs": [
    {
     "data": {
      "text/plain": [
       "array([[ 0.33140611,  0.35797354,  0.25931276,  0.28362104,  0.04269726,\n",
       "         0.22410856,  0.18509443,  0.04455966],\n",
       "       [ 0.15473864,  0.18130607,  0.0826453 ,  0.10695357,  0.1339702 ,\n",
       "         0.04744109,  0.00842697,  0.13210781],\n",
       "       [ 0.08644949,  0.05988206,  0.15854283,  0.13423456,  0.37515833,\n",
       "         0.19374704,  0.23276116,  0.37329594],\n",
       "       [ 0.0656007 ,  0.03903327,  0.13769405,  0.11338577,  0.35430954,\n",
       "         0.17289825,  0.21191238,  0.35244715],\n",
       "       [ 0.02283391,  0.00373352,  0.09492725,  0.07061898,  0.31154275,\n",
       "         0.13013146,  0.16914558,  0.30968036],\n",
       "       [ 0.11015109,  0.08358366,  0.18224443,  0.15793616,  0.39885993,\n",
       "         0.21744864,  0.25646276,  0.39699754],\n",
       "       [ 0.17065217,  0.14408474,  0.24274552,  0.21843724,  0.45936102,\n",
       "         0.27794972,  0.31696385,  0.45749862],\n",
       "       [ 0.16748906,  0.14092163,  0.23958241,  0.21527413,  0.4561979 ,\n",
       "         0.27478661,  0.31380074,  0.45433551]])"
      ]
     },
     "execution_count": 273,
     "metadata": {},
     "output_type": "execute_result"
    }
   ],
   "source": [
    "distances"
   ]
  },
  {
   "cell_type": "code",
   "execution_count": 274,
   "metadata": {},
   "outputs": [],
   "source": [
    "def distance_cost_plot(distances):\n",
    "    im = plt.imshow(distances, interpolation='nearest', cmap='Reds') \n",
    "    plt.gca().invert_yaxis()\n",
    "    plt.xlabel(\"K7lWdNUhCbcnEvI0NhGewg\")\n",
    "    plt.ylabel(\"f4x1YBxkLrZg652xt2KR5g\")\n",
    "    plt.grid()\n",
    "    plt.colorbar();"
   ]
  },
  {
   "cell_type": "code",
   "execution_count": 275,
   "metadata": {},
   "outputs": [
    {
     "data": {
      "image/png": "[encoded data removed]",
      "text/plain": [
       "<matplotlib.figure.Figure at 0x20e5f4240>"
      ]
     },
     "metadata": {},
     "output_type": "display_data"
    }
   ],
   "source": [
    "distance_cost_plot(distances)"
   ]
  },
  {
   "cell_type": "code",
   "execution_count": 277,
   "metadata": {},
   "outputs": [
    {
     "data": {
      "image/png": "[encoded data removed]",
      "text/plain": [
       "<matplotlib.figure.Figure at 0x204185470>"
      ]
     },
     "metadata": {},
     "output_type": "display_data"
    }
   ],
   "source": [
    "# Warping Path Calculations\n",
    "accumulated_cost = np.zeros((len(y2), len(y1)))\n",
    "accumulated_cost[0,0] = distances[0,0]\n",
    "for i in range(1, len(y1)):\n",
    "    accumulated_cost[0,i] = distances[0,i] + accumulated_cost[0, i-1] \n",
    "for i in range(1, len(y2)):\n",
    "    accumulated_cost[i,0] = distances[i, 0] + accumulated_cost[i-1, 0]  \n",
    "# Accumulated Cost (D(i,j))=min{D(i−1,j−1),D(i−1,j),D(i,j−1)}+distance(i,j)\n",
    "for i in range(1, len(y2)):\n",
    "    for j in range(1, len(y1)):\n",
    "        accumulated_cost[i, j] = min(accumulated_cost[i-1, j-1], accumulated_cost[i-1, j], accumulated_cost[i, j-1]) + distances[i, j]\n",
    "distance_cost_plot(accumulated_cost)"
   ]
  },
  {
   "cell_type": "code",
   "execution_count": 278,
   "metadata": {},
   "outputs": [],
   "source": [
    "# Backtracking and finding the optimal warp path\n",
    "path = [[len(y1)-1, len(y2)-1]]\n",
    "i = len(y2)-1\n",
    "j = len(y1)-1\n",
    "while i>0 and j>0:\n",
    "    if i==0:\n",
    "        j = j - 1\n",
    "    elif j==0:\n",
    "        i = i - 1\n",
    "    else:\n",
    "        if accumulated_cost[i-1, j] == min(accumulated_cost[i-1, j-1], accumulated_cost[i-1, j], accumulated_cost[i, j-1]):\n",
    "            i = i - 1\n",
    "        elif accumulated_cost[i, j-1] == min(accumulated_cost[i-1, j-1], accumulated_cost[i-1, j], accumulated_cost[i, j-1]):\n",
    "            j = j-1\n",
    "        else:\n",
    "            i = i - 1\n",
    "            j= j- 1\n",
    "    path.append([j, i])\n",
    "path.append([0,0])"
   ]
  },
  {
   "cell_type": "code",
   "execution_count": 279,
   "metadata": {},
   "outputs": [
    {
     "data": {
      "text/plain": [
       "[[7, 7],\n",
       " [6, 6],\n",
       " [5, 5],\n",
       " [4, 4],\n",
       " [3, 4],\n",
       " [2, 4],\n",
       " [1, 3],\n",
       " [1, 2],\n",
       " [0, 1],\n",
       " [0, 0]]"
      ]
     },
     "execution_count": 279,
     "metadata": {},
     "output_type": "execute_result"
    }
   ],
   "source": [
    "path"
   ]
  },
  {
   "cell_type": "code",
   "execution_count": 280,
   "metadata": {},
   "outputs": [
    {
     "data": {
      "image/png": "[encoded data removed]",
      "text/plain": [
       "<matplotlib.figure.Figure at 0x2037d2160>"
      ]
     },
     "metadata": {},
     "output_type": "display_data"
    }
   ],
   "source": [
    "path_y1 = [point[0] for point in path]\n",
    "path_y2 = [point[1] for point in path]\n",
    "distance_cost_plot(accumulated_cost)\n",
    "plt.plot(path_y1, path_y2);"
   ]
  },
  {
   "cell_type": "code",
   "execution_count": null,
   "metadata": {},
   "outputs": [],
   "source": []
  }
 ],
 "metadata": {
  "kernelspec": {
   "display_name": "Python 3",
   "language": "python",
   "name": "python3"
  },
  "language_info": {
   "codemirror_mode": {
    "name": "ipython",
    "version": 3
   },
   "file_extension": ".py",
   "mimetype": "text/x-python",
   "name": "python",
   "nbconvert_exporter": "python",
   "pygments_lexer": "ipython3",
   "version": "3.6.1"
  }
 },
 "nbformat": 4,
 "nbformat_minor": 2
}
